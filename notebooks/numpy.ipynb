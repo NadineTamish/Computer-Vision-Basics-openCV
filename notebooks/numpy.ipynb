{
 "cells": [
  {
   "cell_type": "code",
   "execution_count": 3,
   "id": "b0402d85",
   "metadata": {},
   "outputs": [],
   "source": [
    "import numpy as np"
   ]
  },
  {
   "cell_type": "markdown",
   "id": "cb24f2b4",
   "metadata": {},
   "source": [
    "1. Creating NumPy Arrays"
   ]
  },
  {
   "cell_type": "markdown",
   "id": "72ca86c9",
   "metadata": {},
   "source": [
    "`Python list`"
   ]
  },
  {
   "cell_type": "code",
   "execution_count": 4,
   "id": "787c7311",
   "metadata": {},
   "outputs": [
    {
     "name": "stdout",
     "output_type": "stream",
     "text": [
      "Array from list: [1 2 3 4 5]\n"
     ]
    }
   ],
   "source": [
    "arr1 = np.array([1, 2, 3, 4, 5])\n",
    "print(\"Array from list:\", arr1)"
   ]
  },
  {
   "cell_type": "markdown",
   "id": "d3af1fad",
   "metadata": {},
   "source": [
    "`Multi-dimensional array`"
   ]
  },
  {
   "cell_type": "code",
   "execution_count": 5,
   "id": "7e723321",
   "metadata": {},
   "outputs": [
    {
     "name": "stdout",
     "output_type": "stream",
     "text": [
      "2D Array:\n",
      " [[1 2 3]\n",
      " [4 5 6]]\n"
     ]
    }
   ],
   "source": [
    "arr2 = np.array([[1, 2, 3], [4, 5, 6]])\n",
    "print(\"2D Array:\\n\", arr2)"
   ]
  },
  {
   "cell_type": "markdown",
   "id": "68c473ed",
   "metadata": {},
   "source": [
    "`Special arrays`"
   ]
  },
  {
   "cell_type": "code",
   "execution_count": 7,
   "id": "537f79c9",
   "metadata": {},
   "outputs": [
    {
     "name": "stdout",
     "output_type": "stream",
     "text": [
      "Array of zeros:\n",
      " [[0. 0. 0.]\n",
      " [0. 0. 0.]\n",
      " [0. 0. 0.]]\n"
     ]
    }
   ],
   "source": [
    "zeros = np.zeros((3, 3))   # 3x3 array of zeros\n",
    "print(\"Array of zeros:\\n\", zeros)"
   ]
  },
  {
   "cell_type": "code",
   "execution_count": 8,
   "id": "6f4201c4",
   "metadata": {},
   "outputs": [
    {
     "name": "stdout",
     "output_type": "stream",
     "text": [
      "Array of ones:\n",
      " [[1. 1. 1. 1.]\n",
      " [1. 1. 1. 1.]]\n"
     ]
    }
   ],
   "source": [
    "ones = np.ones((2, 4))     # 2x4 array of ones\n",
    "print(\"Array of ones:\\n\", ones)"
   ]
  },
  {
   "cell_type": "code",
   "execution_count": 9,
   "id": "5f9ab9d3",
   "metadata": {},
   "outputs": [
    {
     "name": "stdout",
     "output_type": "stream",
     "text": [
      "Identity matrix:\n",
      " [[1. 0. 0.]\n",
      " [0. 1. 0.]\n",
      " [0. 0. 1.]]\n"
     ]
    }
   ],
   "source": [
    "identity = np.eye(3)       # 3x3 Identity matrix\n",
    "print(\"Identity matrix:\\n\", identity)"
   ]
  },
  {
   "cell_type": "code",
   "execution_count": 10,
   "id": "0df8ee0e",
   "metadata": {},
   "outputs": [
    {
     "name": "stdout",
     "output_type": "stream",
     "text": [
      "Array with range: [0 2 4 6 8]\n"
     ]
    }
   ],
   "source": [
    "range_arr = np.arange(0, 10, 2)  # Like Python range, but returns array\n",
    "print(\"Array with range:\", range_arr)"
   ]
  },
  {
   "cell_type": "code",
   "execution_count": 11,
   "id": "97f239a5",
   "metadata": {},
   "outputs": [
    {
     "name": "stdout",
     "output_type": "stream",
     "text": [
      "Array with linspace: [0.   0.25 0.5  0.75 1.  ]\n"
     ]
    }
   ],
   "source": [
    "linspace_arr = np.linspace(0, 1, 5)  # 5 points between 0 and 1\n",
    "print(\"Array with linspace:\", linspace_arr)"
   ]
  },
  {
   "cell_type": "markdown",
   "id": "dbde89f4",
   "metadata": {},
   "source": [
    "2. Array Attributes"
   ]
  },
  {
   "cell_type": "code",
   "execution_count": 13,
   "id": "7d12f2aa",
   "metadata": {},
   "outputs": [
    {
     "data": {
      "text/plain": [
       "(5,)"
      ]
     },
     "execution_count": 13,
     "metadata": {},
     "output_type": "execute_result"
    }
   ],
   "source": [
    "arr1.shape"
   ]
  },
  {
   "cell_type": "code",
   "execution_count": null,
   "id": "a8e6bdb8",
   "metadata": {},
   "outputs": [
    {
     "data": {
      "text/plain": [
       "(2, 3)"
      ]
     },
     "execution_count": 14,
     "metadata": {},
     "output_type": "execute_result"
    }
   ],
   "source": [
    "arr2.shape"
   ]
  },
  {
   "cell_type": "code",
   "execution_count": 16,
   "id": "d36b9b2f",
   "metadata": {},
   "outputs": [
    {
     "data": {
      "text/plain": [
       "dtype('int32')"
      ]
     },
     "execution_count": 16,
     "metadata": {},
     "output_type": "execute_result"
    }
   ],
   "source": [
    "arr2.dtype"
   ]
  },
  {
   "cell_type": "markdown",
   "id": "04ad4534",
   "metadata": {},
   "source": [
    "3. Indexing and Slicing"
   ]
  },
  {
   "cell_type": "code",
   "execution_count": 17,
   "id": "ee8637aa",
   "metadata": {},
   "outputs": [
    {
     "name": "stdout",
     "output_type": "stream",
     "text": [
      "Element at index 2: 30\n",
      "Slice 1:4: [20 30 40]\n"
     ]
    }
   ],
   "source": [
    "arr3 = np.array([10, 20, 30, 40, 50])\n",
    "print(\"Element at index 2:\", arr3[2])\n",
    "print(\"Slice 1:4:\", arr3[1:4])"
   ]
  },
  {
   "cell_type": "markdown",
   "id": "6868b84c",
   "metadata": {},
   "source": [
    "`2D indexing`"
   ]
  },
  {
   "cell_type": "code",
   "execution_count": null,
   "id": "9b00434e",
   "metadata": {},
   "outputs": [
    {
     "name": "stdout",
     "output_type": "stream",
     "text": [
      "Row 1, Col 2: 6\n",
      "First row: [1 2 3]\n",
      "First column: [1 4]\n"
     ]
    }
   ],
   "source": [
    "print(\"Row 1, Col 2:\", arr2[1, 2])\n",
    "print(\"First row:\", arr2[0, :]) \n",
    "print(\"First column:\", arr2[:, 0]) \n"
   ]
  },
  {
   "cell_type": "markdown",
   "id": "016bf63b",
   "metadata": {},
   "source": [
    "`Boolean indexing`"
   ]
  },
  {
   "cell_type": "code",
   "execution_count": 19,
   "id": "3f82bec5",
   "metadata": {},
   "outputs": [
    {
     "name": "stdout",
     "output_type": "stream",
     "text": [
      "Elements > 25: [30 40 50]\n"
     ]
    }
   ],
   "source": [
    "print(\"Elements > 25:\", arr3[arr3 > 25])"
   ]
  },
  {
   "cell_type": "markdown",
   "id": "78def42d",
   "metadata": {},
   "source": [
    " 4. Array Operations"
   ]
  },
  {
   "cell_type": "code",
   "execution_count": 20,
   "id": "496ea780",
   "metadata": {},
   "outputs": [],
   "source": [
    "arrA = np.array([1, 2, 3])\n",
    "arrB = np.array([4, 5, 6])"
   ]
  },
  {
   "cell_type": "markdown",
   "id": "fe57dca9",
   "metadata": {},
   "source": [
    "`Element-wise operations`"
   ]
  },
  {
   "cell_type": "code",
   "execution_count": 21,
   "id": "dbe46127",
   "metadata": {},
   "outputs": [
    {
     "name": "stdout",
     "output_type": "stream",
     "text": [
      "Addition: [5 7 9]\n",
      "Multiplication: [ 4 10 18]\n",
      "Power: [1 4 9]\n"
     ]
    }
   ],
   "source": [
    "print(\"Addition:\", arrA + arrB)\n",
    "print(\"Multiplication:\", arrA * arrB)\n",
    "print(\"Power:\", arrA ** 2)"
   ]
  },
  {
   "cell_type": "markdown",
   "id": "aac02ad1",
   "metadata": {},
   "source": [
    "`Universal functions`"
   ]
  },
  {
   "cell_type": "code",
   "execution_count": 22,
   "id": "d8bbb2bd",
   "metadata": {},
   "outputs": [
    {
     "name": "stdout",
     "output_type": "stream",
     "text": [
      "Sqrt: [2.         2.23606798 2.44948974]\n",
      "Exp: [ 2.71828183  7.3890561  20.08553692]\n",
      "Sin: [0.84147098 0.90929743 0.14112001]\n"
     ]
    }
   ],
   "source": [
    "print(\"Sqrt:\", np.sqrt(arrB))\n",
    "print(\"Exp:\", np.exp(arrA))\n",
    "print(\"Sin:\", np.sin(arrA))\n"
   ]
  },
  {
   "cell_type": "markdown",
   "id": "424cfbb6",
   "metadata": {},
   "source": [
    "5. Matrix Operations"
   ]
  },
  {
   "cell_type": "code",
   "execution_count": 23,
   "id": "877d3503",
   "metadata": {},
   "outputs": [],
   "source": [
    "mat1 = np.array([[1, 2], [3, 4]])\n",
    "mat2 = np.array([[5, 6], [7, 8]])"
   ]
  },
  {
   "cell_type": "markdown",
   "id": "3c58a4a7",
   "metadata": {},
   "source": [
    "`Matrix multiplication`"
   ]
  },
  {
   "cell_type": "code",
   "execution_count": null,
   "id": "c6ef38e7",
   "metadata": {},
   "outputs": [
    {
     "name": "stdout",
     "output_type": "stream",
     "text": [
      "Dot product:\n",
      " [[19 22]\n",
      " [43 50]]\n",
      "@ operator:\n",
      " [[19 22]\n",
      " [43 50]]\n"
     ]
    }
   ],
   "source": [
    "print(\"Dot product:\\n\", np.dot(mat1, mat2))\n",
    "print(\"@ operator:\\n\", mat1 @ mat2) "
   ]
  },
  {
   "cell_type": "markdown",
   "id": "c539378a",
   "metadata": {},
   "source": [
    "`Transpose`"
   ]
  },
  {
   "cell_type": "code",
   "execution_count": 25,
   "id": "4211f2cb",
   "metadata": {},
   "outputs": [
    {
     "data": {
      "text/plain": [
       "array([[1, 3],\n",
       "       [2, 4]])"
      ]
     },
     "execution_count": 25,
     "metadata": {},
     "output_type": "execute_result"
    }
   ],
   "source": [
    "mat1.T"
   ]
  },
  {
   "cell_type": "markdown",
   "id": "e319818d",
   "metadata": {},
   "source": [
    "6. Statistics & Aggregations"
   ]
  },
  {
   "cell_type": "code",
   "execution_count": 26,
   "id": "f25804d8",
   "metadata": {},
   "outputs": [
    {
     "name": "stdout",
     "output_type": "stream",
     "text": [
      "Sum: 15\n",
      "Mean: 3.0\n",
      "Median: 3.0\n",
      "Std Dev: 1.4142135623730951\n",
      "Min: 1\n",
      "Max: 5\n"
     ]
    }
   ],
   "source": [
    "stats_arr = np.array([1, 2, 3, 4, 5])\n",
    "print(\"Sum:\", np.sum(stats_arr))\n",
    "print(\"Mean:\", np.mean(stats_arr))\n",
    "print(\"Median:\", np.median(stats_arr))\n",
    "print(\"Std Dev:\", np.std(stats_arr))\n",
    "print(\"Min:\", np.min(stats_arr))\n",
    "print(\"Max:\", np.max(stats_arr))\n"
   ]
  },
  {
   "cell_type": "markdown",
   "id": "e6f04010",
   "metadata": {},
   "source": [
    "7. Reshaping "
   ]
  },
  {
   "cell_type": "code",
   "execution_count": 27,
   "id": "3d2e82db",
   "metadata": {},
   "outputs": [
    {
     "name": "stdout",
     "output_type": "stream",
     "text": [
      "Reshaped (3x3):\n",
      " [[1 2 3]\n",
      " [4 5 6]\n",
      " [7 8 9]]\n"
     ]
    }
   ],
   "source": [
    "reshape_arr = np.arange(1, 10).reshape(3, 3)\n",
    "print(\"Reshaped (3x3):\\n\", reshape_arr)"
   ]
  },
  {
   "cell_type": "markdown",
   "id": "27df02d1",
   "metadata": {},
   "source": [
    "8. Random Numbers"
   ]
  },
  {
   "cell_type": "code",
   "execution_count": 28,
   "id": "ae7b3384",
   "metadata": {},
   "outputs": [
    {
     "name": "stdout",
     "output_type": "stream",
     "text": [
      "Random array:\n",
      " [[0.64346647 0.70880686 0.03861705]\n",
      " [0.85201643 0.23204905 0.86980107]\n",
      " [0.85760831 0.63114782 0.45712827]]\n"
     ]
    }
   ],
   "source": [
    "rand_arr = np.random.rand(3, 3)    # Uniform [0,1)\n",
    "print(\"Random array:\\n\", rand_arr)"
   ]
  },
  {
   "cell_type": "code",
   "execution_count": 30,
   "id": "f3168951",
   "metadata": {},
   "outputs": [
    {
     "name": "stdout",
     "output_type": "stream",
     "text": [
      "Random integers:\n",
      " [[6 7 5]\n",
      " [8 9 6]\n",
      " [4 2 0]]\n"
     ]
    }
   ],
   "source": [
    "rand_int = np.random.randint(0, 10, (3, 3))  # Random integers\n",
    "print(\"Random integers:\\n\", rand_int)"
   ]
  },
  {
   "cell_type": "code",
   "execution_count": 32,
   "id": "df9cf9eb",
   "metadata": {},
   "outputs": [
    {
     "name": "stdout",
     "output_type": "stream",
     "text": [
      "Normal distribution:\n",
      " [[ 0.41650234 -1.51223942 -0.95149337]\n",
      " [ 1.2742611   0.35391908  0.2845023 ]\n",
      " [ 0.10252039 -0.9663255  -0.85508894]]\n"
     ]
    }
   ],
   "source": [
    "normal_arr = np.random.randn(3, 3) # Normal distribution\n",
    "print(\"Normal distribution:\\n\", normal_arr)"
   ]
  },
  {
   "cell_type": "markdown",
   "id": "9bd8e920",
   "metadata": {},
   "source": [
    "9. Copying and Views"
   ]
  },
  {
   "cell_type": "code",
   "execution_count": 37,
   "id": "4ea1b070",
   "metadata": {},
   "outputs": [],
   "source": [
    "orig = np.array([1, 2, 3])\n",
    "view = orig.view()   # Shares data\n",
    "copy = orig.copy()   # Independent copy"
   ]
  },
  {
   "cell_type": "code",
   "execution_count": 38,
   "id": "0bbad452",
   "metadata": {},
   "outputs": [
    {
     "name": "stdout",
     "output_type": "stream",
     "text": [
      "Original: [99  2  3]\n",
      "View: [99  2  3]\n",
      "Copy: [1 2 3]\n"
     ]
    }
   ],
   "source": [
    "orig[0] = 99\n",
    "print(\"Original:\", orig)\n",
    "print(\"View:\", view)\n",
    "print(\"Copy:\", copy)"
   ]
  },
  {
   "cell_type": "markdown",
   "id": "a02eaef3",
   "metadata": {},
   "source": [
    "10. NumPy for OpenCV"
   ]
  },
  {
   "cell_type": "code",
   "execution_count": 41,
   "id": "320ff240",
   "metadata": {},
   "outputs": [],
   "source": [
    "# Example grayscale (2D) and color (3D) shapes\n",
    "height, width = 100, 200\n",
    "img_gray = np.random.randint(0, 255, (height, width), dtype=np.uint8)\n",
    "img_color = np.random.randint(0, 255, (height, width, 3), dtype=np.uint8)"
   ]
  },
  {
   "cell_type": "code",
   "execution_count": null,
   "id": "5fafae51",
   "metadata": {},
   "outputs": [
    {
     "name": "stdout",
     "output_type": "stream",
     "text": [
      "Grayscale shape: (100, 200)\n",
      "Color shape: (100, 200, 3)\n"
     ]
    }
   ],
   "source": [
    "print(\"Grayscale shape:\", img_gray.shape)\n",
    "print(\"Color shape:\", img_color.shape)"
   ]
  },
  {
   "cell_type": "code",
   "execution_count": 43,
   "id": "1227ac90",
   "metadata": {},
   "outputs": [
    {
     "name": "stdout",
     "output_type": "stream",
     "text": [
      "Gray pixel [10,20]: 239\n"
     ]
    }
   ],
   "source": [
    "# Access a pixel (y, x) for grayscale\n",
    "print(\"Gray pixel [10,20]:\", img_gray[10, 20])"
   ]
  },
  {
   "cell_type": "code",
   "execution_count": 44,
   "id": "8f6bc15e",
   "metadata": {},
   "outputs": [
    {
     "name": "stdout",
     "output_type": "stream",
     "text": [
      "Color pixel [10,20] (BGR): [ 69 115 247]\n"
     ]
    }
   ],
   "source": [
    "# Access pixel (y, x, c) for color (channel: 0=Blue, 1=Green, 2=Red)\n",
    "print(\"Color pixel [10,20] (BGR):\", img_color[10, 20])\n"
   ]
  },
  {
   "cell_type": "code",
   "execution_count": 45,
   "id": "229b47f9",
   "metadata": {},
   "outputs": [
    {
     "name": "stdout",
     "output_type": "stream",
     "text": [
      "Converted dtype: float32\n"
     ]
    }
   ],
   "source": [
    "# Convert data type (e.g., to float32)\n",
    "float_img = img_gray.astype(np.float32)\n",
    "print(\"Converted dtype:\", float_img.dtype)"
   ]
  }
 ],
 "metadata": {
  "kernelspec": {
   "display_name": "DEPI",
   "language": "python",
   "name": "python3"
  },
  "language_info": {
   "codemirror_mode": {
    "name": "ipython",
    "version": 3
   },
   "file_extension": ".py",
   "mimetype": "text/x-python",
   "name": "python",
   "nbconvert_exporter": "python",
   "pygments_lexer": "ipython3",
   "version": "3.11.11"
  }
 },
 "nbformat": 4,
 "nbformat_minor": 5
}
